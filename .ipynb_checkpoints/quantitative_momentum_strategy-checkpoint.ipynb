{
 "cells": [
  {
   "cell_type": "markdown",
   "id": "dc58ea09-03ea-484a-b6be-32cb88cec4ab",
   "metadata": {},
   "source": [
    "# Quantitative Momentum Strategy\n",
    "\n",
    "Selects the stocks within the S&P 500 with the highest returns over the past year using certain metrics and selects 50 of the highest momentum stocks."
   ]
  },
  {
   "cell_type": "code",
   "execution_count": 2,
   "id": "e965bd42-905b-4c0a-bbdc-81958f3ac363",
   "metadata": {},
   "outputs": [],
   "source": [
    "import numpy as np\n",
    "import pandas as pd\n",
    "from scipy import stats\n",
    "import yfinance as yf\n",
    "import math\n",
    "import xlsxwriter"
   ]
  },
  {
   "cell_type": "code",
   "execution_count": null,
   "id": "22e70ba3-dd58-4945-97aa-ee72b2a94591",
   "metadata": {},
   "outputs": [],
   "source": []
  }
 ],
 "metadata": {
  "kernelspec": {
   "display_name": "Python 3 (ipykernel)",
   "language": "python",
   "name": "python3"
  },
  "language_info": {
   "codemirror_mode": {
    "name": "ipython",
    "version": 3
   },
   "file_extension": ".py",
   "mimetype": "text/x-python",
   "name": "python",
   "nbconvert_exporter": "python",
   "pygments_lexer": "ipython3",
   "version": "3.12.5"
  }
 },
 "nbformat": 4,
 "nbformat_minor": 5
}
