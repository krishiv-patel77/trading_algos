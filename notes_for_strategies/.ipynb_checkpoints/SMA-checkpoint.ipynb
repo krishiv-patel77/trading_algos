{
 "cells": [
  {
   "cell_type": "markdown",
   "id": "84a8f3ce-ca12-4ad7-813d-a2d1b5b81255",
   "metadata": {},
   "source": [
    "# SMA Strategy"
   ]
  },
  {
   "cell_type": "markdown",
   "id": "571ece69-ed68-4577-b298-269f8d9985e0",
   "metadata": {},
   "source": [
    "### Import necessary Libraries"
   ]
  },
  {
   "cell_type": "code",
   "execution_count": 1,
   "id": "7044c2de-c739-4f42-a058-e85bd1fb43e9",
   "metadata": {},
   "outputs": [],
   "source": [
    "import MetaTrader5 as mt5\n",
    "import pandas as pd\n",
    "import plotly.express as px"
   ]
  },
  {
   "cell_type": "markdown",
   "id": "71aa6b8d-41a4-44b9-b61f-773af38138e0",
   "metadata": {},
   "source": [
    "### Access Historical Data & Make pandas dataframe with only relevant columns"
   ]
  },
  {
   "cell_type": "code",
   "execution_count": 9,
   "id": "18c6e869-e1d1-4f2c-93aa-b9ce3c5a0341",
   "metadata": {},
   "outputs": [
    {
     "data": {
      "text/plain": [
       "True"
      ]
     },
     "execution_count": 9,
     "metadata": {},
     "output_type": "execute_result"
    }
   ],
   "source": [
    "mt5.initialize(login=10005612822,server='MetaQuotes-Demo', password='V!Ks2lBd')"
   ]
  },
  {
   "cell_type": "markdown",
   "id": "bfdee55c-a47b-4cda-9737-773e1262bdc7",
   "metadata": {},
   "source": [
    "### Calculate and upload slow_SMA and fast_SMA"
   ]
  },
  {
   "cell_type": "code",
   "execution_count": null,
   "id": "a8fdda80-bf6a-49ee-b5f8-17747d6dddaf",
   "metadata": {},
   "outputs": [],
   "source": []
  },
  {
   "cell_type": "markdown",
   "id": "1ff87d06-5694-4f19-8544-24390a8d34b1",
   "metadata": {},
   "source": [
    "### Create a prev_SMA column and calculate intersections "
   ]
  },
  {
   "cell_type": "code",
   "execution_count": null,
   "id": "ec71cdfb-289c-4bee-b718-03abdffc047a",
   "metadata": {},
   "outputs": [],
   "source": []
  },
  {
   "cell_type": "markdown",
   "id": "177fc840-b6ba-48d9-9bc5-5f2b7cd16ce1",
   "metadata": {},
   "source": [
    "### Create a graph to visualize"
   ]
  },
  {
   "cell_type": "code",
   "execution_count": null,
   "id": "39b7befe-ba52-4b4e-8ee1-157e2e7818a7",
   "metadata": {},
   "outputs": [],
   "source": []
  }
 ],
 "metadata": {
  "kernelspec": {
   "display_name": "Python 3 (ipykernel)",
   "language": "python",
   "name": "python3"
  },
  "language_info": {
   "codemirror_mode": {
    "name": "ipython",
    "version": 3
   },
   "file_extension": ".py",
   "mimetype": "text/x-python",
   "name": "python",
   "nbconvert_exporter": "python",
   "pygments_lexer": "ipython3",
   "version": "3.12.5"
  }
 },
 "nbformat": 4,
 "nbformat_minor": 5
}
